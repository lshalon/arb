{
 "cells": [
  {
   "cell_type": "code",
   "execution_count": 23,
   "metadata": {},
   "outputs": [
    {
     "name": "stdout",
     "output_type": "stream",
     "text": [
      "NTAw\n",
      "MTAwMA==\n",
      "MTUwMA==\n",
      "MjAwMA==\n",
      "MjUwMA==\n",
      "MzAwMA==\n",
      "MzUwMA==\n",
      "NDAwMA==\n",
      "NDUwMA==\n",
      "NTAwMA==\n",
      "NTUwMA==\n",
      "NjAwMA==\n",
      "NjUwMA==\n",
      "NzAwMA==\n",
      "NzUwMA==\n",
      "ODAwMA==\n",
      "ODUwMA==\n",
      "OTAwMA==\n",
      "OTUwMA==\n",
      "MTAwMDA=\n",
      "MTA1MDA=\n",
      "MTEwMDA=\n",
      "MTE1MDA=\n",
      "MTIwMDA=\n",
      "MTI1MDA=\n",
      "MTMwMDA=\n",
      "MTM1MDA=\n",
      "MTQwMDA=\n",
      "MTQ1MDA=\n",
      "MTUwMDA=\n",
      "MTU1MDA=\n",
      "MTYwMDA=\n",
      "MTY1MDA=\n",
      "MTcwMDA=\n",
      "MTc1MDA=\n",
      "MTgwMDA=\n",
      "MTg1MDA=\n",
      "MTkwMDA=\n",
      "LTE=\n"
     ]
    }
   ],
   "source": [
    "import os\n",
    "from py_clob_client.constants import POLYGON\n",
    "from py_clob_client.client import ClobClient\n",
    "from py_clob_client.clob_types import OrderArgs\n",
    "from py_clob_client.order_builder.constants import BUY\n",
    "\n",
    "host = \"https://clob.polymarket.com\"\n",
    "key = os.getenv(\"PK\")\n",
    "chain_id = POLYGON\n",
    "\n",
    "client = ClobClient(host, chain_id=chain_id)\n",
    "\n",
    "\n",
    "all_contracts = []\n",
    "next_cursor = \"\"\n",
    "iter = 0\n",
    "\n",
    "while (next_cursor != \"LTE=\"):\n",
    "    resp = client.get_markets(next_cursor = next_cursor)\n",
    "    next_cursor = resp[\"next_cursor\"]\n",
    "    print(next_cursor)\n",
    "    iter += 1\n",
    "    all_contracts.extend([x for x in resp[\"data\"] if x[\"accepting_orders\"] and not x[\"closed\"]])\n",
    "    if iter > 10000:\n",
    "        break\n",
    "    \n"
   ]
  },
  {
   "cell_type": "code",
   "execution_count": 28,
   "metadata": {},
   "outputs": [],
   "source": [
    "import pandas as pd\n",
    "\n",
    "pd.DataFrame(all_contracts).to_csv(\"./active_polymarket_contracts.csv\", index=False)"
   ]
  },
  {
   "cell_type": "code",
   "execution_count": null,
   "metadata": {},
   "outputs": [],
   "source": []
  }
 ],
 "metadata": {
  "kernelspec": {
   "display_name": "arb-wQ2lT9jx-py3.10",
   "language": "python",
   "name": "python3"
  },
  "language_info": {
   "codemirror_mode": {
    "name": "ipython",
    "version": 3
   },
   "file_extension": ".py",
   "mimetype": "text/x-python",
   "name": "python",
   "nbconvert_exporter": "python",
   "pygments_lexer": "ipython3",
   "version": "3.10.12"
  }
 },
 "nbformat": 4,
 "nbformat_minor": 2
}
